{
  "nbformat": 4,
  "nbformat_minor": 0,
  "metadata": {
    "colab": {
      "name": "SHAPE AND COLOR RECOGNITIONpynb",
      "provenance": []
    },
    "kernelspec": {
      "name": "python3",
      "display_name": "Python 3"
    },
    "language_info": {
      "name": "python"
    }
  },
  "cells": [
    {
      "cell_type": "code",
      "metadata": {
        "colab": {
          "resources": {
            "http://localhost:8080/nbextensions/google.colab/files.js": {
              "data": "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",
              "ok": true,
              "headers": [
                [
                  "content-type",
                  "application/javascript"
                ]
              ],
              "status": 200,
              "status_text": ""
            }
          },
          "base_uri": "https://localhost:8080/",
          "height": 109
        },
        "id": "h2RETKOu7dxO",
        "outputId": "b8e0e216-ab93-4adc-d45a-666127f736b9"
      },
      "source": [
        "from google.colab import files\n",
        "files.upload()"
      ],
      "execution_count": 27,
      "outputs": [
        {
          "output_type": "display_data",
          "data": {
            "text/html": [
              "\n",
              "     <input type=\"file\" id=\"files-edf7411a-fe04-45ee-8cbd-3725413314ea\" name=\"files[]\" multiple disabled\n",
              "        style=\"border:none\" />\n",
              "     <output id=\"result-edf7411a-fe04-45ee-8cbd-3725413314ea\">\n",
              "      Upload widget is only available when the cell has been executed in the\n",
              "      current browser session. Please rerun this cell to enable.\n",
              "      </output>\n",
              "      <script src=\"/nbextensions/google.colab/files.js\"></script> "
            ],
            "text/plain": [
              "<IPython.core.display.HTML object>"
            ]
          },
          "metadata": {}
        },
        {
          "output_type": "stream",
          "name": "stdout",
          "text": [
            "Saving images (1).png to images (1).png\n"
          ]
        },
        {
          "output_type": "execute_result",
          "data": {
            "text/plain": [
              "{'images (1).png': b'\\x89PNG\\r\\n\\x1a\\n\\x00\\x00\\x00\\rIHDR\\x00\\x00\\x01\\x13\\x00\\x00\\x00\\xb7\\x08\\x03\\x00\\x00\\x00\\x06\\x8dJ\\xc6\\x00\\x00\\x01#PLTE\\x00\\x00\\x00\\xfe\\x00\\x00\\x00\\x00\\xfe\\x00\\xff\\x01\\x01\\x00\\x80\\x00\\x80\\x01\\x80\\x00\\x00\\x00\\x00\\x03\\x03\\x00\\x00\\x00\\x00\\x82\\x00\\x02\\x00\\x04\\x048\\xe6\\r\\r\\xcb\\x0c\\r\\x04\\x00{\\x04\\x05K\\xf5\\t\\to\\x10\\x10h\\x06\\x06<\\x08\\x07%\\x82\\'\\x16\\xff\\x17\\x00\\x83\\x00\\x00\\x7f\\x03\\x83\\x00\\x00\\x00\\x00-\\x00\\x01\\xfa\\x04\\x039\\x06\\x02w\\x04\\x045\\x00\\x00\\x12\\x0b~\\x0b\\x15\\x00\\x00}\\x01\\x03x\\x06\\x08\\x0b5\\n\\t\\x1c\\t\"\\xd3$\\x00\\x00!\\x00\\x00?\\x03\\x03b\\x02\\x01&\\x04\\x06\\x94\\x07\\t\\xc9\\x06\\t\\xd2\\x05\\x07\\xd9\\x02\\x05\\xee\\x06\\x06\\xa7\\n\\x08n\\x06\\x03\\x9c\\x01\\x01\\x19\\x05\\x06\\xe3\\x03\\x03R\\n\\x06\\xbc\\x03\\x03\\x1f\\x03\\x05H\\x03\\x02>\\x08\\x07\\xdf\\x02\\x03[\\n\\x07s\\n\\x05\\xa5\\x07\\x04\\xf3\\n\\t\\xb3\\x07\\x08\\xc1\\x17H\\x17\\rG\\r\\x14f\\x12\\x05\\x15\\x04\\x11p\\x14\\x0eY\\x14\\x11.\\x10W\\x0b\\x0e4\\x07\\x08\\x0fQ\\x10C\\t\\t*\\x06\\x05\\x11V\\x10O\\x05\\x08#\\x05\\x05d\\x14\\x12\\x0c2\\x0b!U \\x08$\\t&{%\\\\~[\\x007\\x00\\xb8\\x17\\x1b+\\x84-$\\x9a*)\\x92&,\\xaa,\"\\xc1!\\x1f\\xdc\\x1f,\\xb8,\\x16\\xf3\\x1c\\x16f\\x18\\x0b\\x1b\\t\\xf04F\\xf0\\x00\\x00\\nUIDATx\\x9c\\xed\\x9d\\tC\\x1aI\\x16\\xc7k\\x8dM\\x15\\xc5\\x0cn\\x18i\\x10\\xd4\\xe6\\xd0L6\\xe2\\x15\\x9dILFG\\r\\x1ed51fv\\xd7\\xe05\\xdf\\xffSl\\xbdW\\xd5Hs6M\\xb5\\xd0P\\xbf\\x8c\\x19\\x06\\xb0\\xe9\\xfa\\xf3\\xaezU\\xddC\\x88\\xc1`0\\x18\\x0c\\x06\\x83\\xc1`0\\x18\\x0c\\x06\\x83\\xc1`0\\x18\\x0c\\x06\\x83\\xc1`0\\x18\\x0c\\x06\\x83\\xc1`0\\x18\\x0c\\x93\\x00{zH\\x19\\xa3|tg2j(!\\\\\\x0c\\x9f\\x93W\\x0b\\xbf\\xce\\xce\\xc6\\xe3\\xaf\\x17\\x16\\x84<B\\x13\\xf1\\x12\\x95\\xafO\\x17b\\xd4\\x14\\x14 \\xffz\\xfdf\\xad\\xb2>#\\xd8\\xa8T6\\x17\\xdf\\t\\x9d\\xa8\\x94d\\xea4\\x811S\\xe14[k\\x1b\\xa0GnF\\xb2\\xbf\\xb7\\xfd\\n]\\x87z<jZ\\x00;\\x98\\xdb\\xdcPb\\xb8\\xa2\\xcc\\xcc\\xac}|\\xcb\\x08\\x9fB+\\x91C\\xde\\xda\\x11R\\xe4r\\xa8\\x87\\xfa\\x1b|hs\\x99+\\xdf\\x9a*@\\x93\\xe5\\x86\\x914\\xac$\\x87\\x02\\xe5*\\xbb|\\x1a=\\x870\\xfa[\\xce\\xb5\\x11\\x8f\\xf3\\xc0\\x83\\x9d\\x0f\\xcf\\xa3\\xc98\\x99\"\\xe4\\xdb7O!\\xa4\\x9d\\xb5\\x85g\\xb0\\x14\\xfe\\xfb\\xdc\\xdc\\xbb\\xb9 \\xbc\\xfb\\x1d\\x12\\x81\\xae\\x98\\'\\x8fC\\x19y\\xbd\\xd1]\\x11\\xa1\\xd6\\xe6+\\x1e\\xfe\\x97\\x98H\\xce\\x06#\\x99\\x07\\x13\\xd3u\\x82\\xae&s;3\\xbd\\xecd&\\xf7\\xe6\\x19\\xca\\xd9\\xfcl|\\x16\\xaa\\xc5\\x81\\x99Mh?\\x17\\xa1\\xcbf#\\xcdta\\xef\\xbd\\xf6\\x8fm#\\x91\\x14\\xc3\\x8b\\x0fn&\\xf1\\xe4\\x92\\xce/L\\xd9\\xdb\\xeeN/#A\\xad\\xb6\\x9f\\xc3w\\x84 \\x014\\x99Mj\\xb5\\x13U\\xb7\\x1f\\xf4\\x94D\\xe6\\x9e\\xf0\\r%\\xb1\\x98L\\x06\\xd2dqI\\xef\\xd4C\\x1c\\x8c\\'\\xd6q\\xd8\\xbd#\\xca\\xa2\\xc6\\x0f\\xedx\"$\\x1f0\\xc6\\n\\xdfQ_\\xaeF\\xe2\\xb9\\xdez \\xebD\\xff\\x07{A\\xdf\\t\\xa4I\\x081\\xb6\\x8f\\xebH\\xf6\\xf3aO\\x8e\\x83\\xe6b\\xdd\\x9a\\xc0(\\x17*~4\\xc9mM\\x8b&\\xc0\\xfbu_\\x9a\\xccj\\xff\\xe0\\x16\\xc6I\\x93^5l\\x13\\x07\\xda?\\xb8\\x85q\\xd1\\x04\\xbc!\\xeeK\\x92\\x99=\\xf7\\xfda1.\\x9a\\x00\\xbe5a\\xe1\\x06\\x941\\xd1\\x04\\x87\\xe8S\\x93u\\x12\\xf2l>?\\x1e\\xb9\\x98\\x0e\\xe0;;a\\x17(\\x89d@C\\xd1[\\xb3aS\\xfeC\\xef\\xd9\\x8e\\xdb\\x87\\xdc\\x0e=\\x17/&\\x83\\xcdw\\x16\\x13\\xda\\xbf\\xad\\xa5>\\xf5\\x89\\xd2D\\x16\\xf7\\xa1\\xa9\\xc29\\xce\\x8b\\x03\\xd9\\x89\\xfe\\x18\\xeb\\xb3f\\xfb\\x08\\xef\\r\\xd3{\\x82j\"{\\x05\\x9a\\xcf\\xeb\\x0f_\\xe1d\\x99\\x84\\xbc\\xf6\\x15\\xb8\\xa7\\x14\\x87>\\x9b\\xd6\\xf3bl\\xb1_\\xd1\\x06\\xce\\xf3\\x1b\\xbc7\\xc4x\\xc2\\xc8\\xd2b2\\x18\\xd0+\\xd0{2\\x94\\xe5\\xfb\\x16\\xf7b\\xe2\\x9c$a\\xc7\\xd8\\xb7\\xef\\x13K\\x89|b`\\xf2y4a\\xcd\\'\\xb7\\xdd\\xdfu\\xf6^i\\xfd\\xc4\\xf1\\'\\xbf\\xd7\\xd7P\\xc2n)\\x8d\\x1f\\xdb\\xb9\\xa6\\xf5\\xaevAr3\\x95\\x85Q\\x9f\\xe2s\\xc3\\x17*\\xbd%\\xd9\\xf88\\xeaS\\x1c\\x01s\\x95\\xee\\xfdX!I\\x1c6\\xebL\\x17\\x9c\\x93\\xad\\xfd\\x1e=\\xd9\\x83\\xe5iS\\x84\\x80\\x11\\xd0\\xf8~WI\\xfe\\\\\\x1a\\xaf\\xf5\\xedg\\x82\\x11\\xba\\xd8\\xa5J\\xd9\\xf8\\xc3\\xcf2\\x1bg\\x8c\\x1fN\\xd6\\xd67\\xc6\\x08\\x9f\\xabxVy\\xe4\\x02Gn\\xe3\\rXQ\\xbf\\x82\\x08j\\xebC\\xe7\\x88P\\x0e\\xbb\\x14&\\xc2\\xd3`\\x1f\\x12c\\xcb[\\x95\\x99\\'U0\\x13ml/\\x11wG[\\x9f\\x03\\x90c\\xdb9D7|\\x86\\x13\\x0e\\x1f4\\x03&le\\xe9`\\xbdi\\xee\\xb3\\xbfSy-7\\xf7\\xf9\\xd9\\xbbE\\x1d\\xcb\\x12\\x96\\x02o\\x9f\\x08;\\x01\\xe4\\xa0\\xdf~8X[\\xdb\\x11\\xac\\xaf\\xfd\\x89}\\t\\x90\\xca\\x87&\\xc2u2\\x96\\x05\\x96\\xc2\\xf8\\x04i\\xa2\\xf6\"\\x89\\x01\\xed\\xee\\xee~X\\xc0G\\x8c\\xa1\\rQ\\x1f\\x01\\xe5\\xd8\\x02\\x9cO\\xe2(\\x13\\xb1\\xfb\\x8dB\\x90%\\xae\\x13\\xa9\\'9\\xc4\\x18\\xdf]\\xa4O\\x8e\\x95\\x11\\x7f\\xec\\xea\\'u\\xac\\xa8C\\xa9\\x1a\\x87+\\x00\\xc5G\\x83D\\xcb\\xb2p\\x1d\\x0b~\\x84(\\xa8\\'\\x1d\\xce\\\\\\xd4\\x99\\x84\\xbcn\\x1f.\\'\\x19\\xf4\\x9d\\x8c\\x14E\\x87& \\x06\\x8b\\xb2&\\xb4j\\x83\\x1e\\x99\\x8c\\r\\xa2P:\\xbc\\x03\\xa9\\xab\\x1f\"\\xec\\x88\\xa7\\x8e\\xb4\\x12\\xdb\\x06\\xf7\\xe1C\\xef\\xcf\\x97b\\x80K3\\xc6\"\\xaa\\xcb\\xa3%\\xc4\\xb0!\\x1d\\x832`)l(\\xab\\x97\\x9a\\xb0\\xb3\\xf3\\xe8\\x96\\x80\\\\\\xba\\x8e\\x85\\xa2\\x08\\x07\\xaa\\xe2.\\xde\\xa1\\xea\\x141\\x81\\xe2\\xe7\\xa5T4M\\x048ul\\xcb\\x81p\\x02\\tYx\\x90\\x0c\\xb4Ch\\x82\\xd6QxY,\\x9e\\x91!\\x83\\xf5\\xc8\\x80\\xac\\x83v\"\\xb3\\x0f\\x8a2\\x94\\xd1C0!_\\xb3\\xb1X\\xb1 \\xc3m\\xb4`\\xe0:V+\\xf6#~\\xd7A\\xa7\\x84\\\\\\x1c\\xf5\\xbc\\x14+\\x16\\x8b\\xa9\\x08N\\x15(s\\xb3\\x8eG\\x12\\xcb\\xa9\\xa9\\x85\\xc3`Y\\x83\\xd2B*&(\\x16?k>\\xe1\\xf0\\xc1\\xecr\\xd1\\xa6\\x88\\xc8\\xc9\\x99\\x9azC K\\xa1\\xf42V\\x8c\\t\\xe7\\x89\\x95\\n4Z\\x01E\\xf6\\xd5Z]\\x07\\x14\\xc9\\x80(P_\\x04\\xcc\\xc9\\xff.ec\\xd9,\\xa8\\x92\\xd2{\\xca\\xa1\\x83s\\xc6r\\xa6E\\x13\\xf9\\xdf6\\x88\\x124\\x1a\\x14RYa\\'\\xe0<\\xb1\\xe2\\xa5\\xdes~\\x06\\x18\\xb9\\xb0;jb\\xd9\"\\xa6\\x04\\xd5\\xe4\\x12BI\\x0ce\\xc9\\x96\\n\\xd1K\\xc7\\xedY\\xc7\\x92\\x93\\x1f\\x08\\xb4\\xc1z\\xd6_J1\\x17a/g\\xa1j\\x12\\xa0\\xaf\\x8eW\\xd2v\\xbf\\xce\\x8b\\x93\\x15\\xa7\\xd5N\\\\Q\\xb0\\x1b\\xe9\\xce]|\\x7f,\\x8c?\\x15k\\xa6tN\\xc2\\xbc\\xc2\\xf9\\xebO\\x03\\xf2\\xf3/\\xd8h\\xea6\"\\xf1\\xe2Q\\xc6\\xee$\\nN\\t3h)\\x03|\\x152s\\x9f\\xc5\\xbc\\xbc,\\x84\\xd73\\xa0\\xf4\\xe5?\\xff1\\x18?\\xfd\"\\x9b\\x90]\\x0f\\t]\\xc7\\xce\\x9a`\\x06\\x02Q\\x18\\xf1\\xbb\\xc0\\x81\\x9d\\xbdf\\xcfQ\\x9c\\xe1\\x8b\\x9aT\\xf0\\xc2I\\x10MH\\x8f\\x84J\\xe9u[\\xc1\\xd6$\\t\\x04\\xda+\\xb7o\\xe7\\x13\\xcaR\\xad\\x92\\x80\\xf7\\x04,\\xfe|\\x10H\\x13\\xd6}\\xc6!\\\\\\xc7\\xb6Zsq\\xc3y2\\xd0d\\xaa^\\x13\\xff\\xad\\x03\\x18\\xf8%\\xd6j^R\\x85\\xf0j\\xfc\\xa0v\\xd2\\xfd\\x88\\xc7vc\\xea\\xd7\\x8a\\xe3\\xa0WU\\xaf\\xfd\\x17\\xb3\\x8c\\xc3<\\xa7]\\x93\\xec\\xe5P\\xf3\\xec\\x9e\\x04\\xd1\\xa4\\xa7\\xe5_;\\x99\\xae\\x9a@+\\x05Z\\x07\\xd5\\x15\\xdf\\xc9N$\\xa9\\x94,\\xd6Z4)}\\t\\xad\\xbd\\x14P\\x93n\\x87\\xe3\"\\xebx4\\x01w\\xc1\\xbf1\\xedX\\xb2~\\xb3\\x85\\xfb\\xf0~\\xd1@z\\x17\\x87j\\xad\\r!R6\\xc5\\xc2\\xba\\xe5H0\\xdf\\xe9\\xae\\n=\\xb6\\xac\\xa7x\\xa2\\x9a\\xf7\\x99\\x86@*\\xd0:\\xdf\\xfa\\xe5b\\xae*\\x18^h\\xcb9(J1+&\\xc8\\xb2\\xbd\\xa4]\\x17\\xdd\\x9a\\xac\\xc8\\xb5\\xaefM\\xa4\\xa9\\xb8\\x9ad\\x9c\\xeaI\\xf9\\xca\\xcf\\xea E\\x1f\\xfd\\xda\\xc1q\\xd0yb\\xa5/!\\xb5\\xf2ukr\\xd8\\xdc^\\xc3f\\xac\\xc7\\x8f\\x84\\x1e\\xd7\\x10\\x1a9\\xef\\xef;\\xf09\\xf4s\\xb1C\\x80\\x95\\x9a\\x14\\xe5\\x04Y\\x7f\\xa4\\xd5\\xac\\t\\xbaNs.v\\x8dF\\xa8\\xe3<~C=\\xc47K\\xb9\\x9f{\\xedp\\x9c\\x0eg;h\"\\xe7\\xc8\\xc5\\x90\\x8a\\x14\\xcd\\x9ap\\'\\xd3\\xac\\x89\\x8d\\x7f,G8\\xcc\\xd1\\xa9\\xfb\\x1ei\\xee}$Q\\x81\\xe2\\xac\\xa3\\x99\\x08\\x99\\x8aE\\xe9=\\xb8\\xe2\\xa3O\\x0eD\\xb3&W\\x19\\xcb[\\xb1\\xd9\\xa2(\\xa9^\\x94\\xdd\\xd7a\\x0c\\x9c\\xf6\\xac\\xfa\\x1a\\x88\\xb7|.B#\\t\\x7f\\x9a\\x89\\xc5\\x94\\xf5\\x9c1\\xe2\\xcb\\xe2\\x06C\\x9b&\\xf2\\x89\\x1a\\xac`<\\xcdv\\x84}<\\x96W\\xf0e\\xcf-\\xcc|\\x98<t\\xe4\\ng\\xa9\\xde|=\\'\\x83\\xcc\\xb0}\\xa2K\\x13\\xd5{v\\xdc\\xf9\\x9f-f{\\xd5\\xe3\\xda\\xb5\\x1c^h\\x8cy}\\xc2\\x84\\x11_)E2\\x8e\\xf3x\\xb2\\xf2\\xb7z%\\xcc\\xe5\\x980D\\xd1f\\'\\x98&N\\xc0>,\\xa7Z\\xbb\\xfe$\\xef\\x91!wY\\x84\\x05\\x0bg\\x0f\\x94&M\\xa8\\x0c\\x9a\\xdfE\\x00\\xa9\\x1d\\xba\\xcfAG\\x9a\\xd1\\xe8\\xed\\x05\\xd5\\xe7;b\\xf0\\xd7\\x7f\\xfd\\x07\\x03*\\x93AT%\\x97\\xc8-e\\xea\\xd2\\x84\\xbb\\xab\\x9erA\\xaay\\xa1{Z5\\xa1\\xa22E\\xb3p\\xcb\\x057\\xf3FM\\x0f X\\x9f\\xad=p6\\x84\\x88<,\\x98&a5.\\xc6\\x84@=\\xa5a71\\x8e9g?\\x0f\\xc8\\x7f\\xcf\\xf1\\xf7&W\\x93\\xe0\\xd7\\xd7LD\\xe8\\xe8H\\x90{K\\xb3I6\\x12\\x12\\xdcN&Y\\x94\\xe7\\xf5\\x00&?Q\\xda%\\x93)\\xbd\\xc3\\\\\\xb2e\\x85=\\xca\\xdb\\xc9}\\xd3\\\\\\xe1\\xb6oo\\xa3\\x1eM(nx\\x8c\\xd8f\\xadA\\xa0\\\\\\xd5\\xfcj\\x16\\x80&\\xd1V\\xfc\\xc9\\xf1\\xe3K\\xeag\\x82\\x03\\xba\\\\\\xc6\\xc2F+zM\\xb72G>//\\x9dR\\x06\\x13\\xb5\\x99\\xf5\\x00\\xd0\\x0e\\xbe\\xf2m\\xde\\xc3\\xffZ\\xde\\xee\\xe7\\xa2\\xb2(\\xc3\\xb9\\xba@C8\\xd1\\xf7\\x9b\\x9b\\x9b\\x87t:\\xfd\\x90~\\xe1%\\r\\xcf\\xae\\xfe\\xf8\\xf1\\xe3T\\xad\\x91\\xd3\\x89\\x16\\x05GV\\xae\\xd5\\xeb\\xab\\xe9V%: \\xf4\\xaa\\xd7\\xe7U\\x87{\\xb4\\'\\xae\\x15\\xea\\xfd\\xf7\\xe1E\\xfd\\xd6\\x8f\\x1c\\xcd\\xca\\xdc\\xdd\\xcf_\\xb8=\\x87\\x88^\\xb8\\xe3A\\xee|S\\x91\\xb2\\xec\\xdc>\\x0c$\\xc7\\x93.\\xab7\\x8fD\\xed\\r\\x8c\\xfc5\\xdc\\x18\"96\\xa0\\xae\\xea\\x01\\x05qey\\x84\\x95\\x81\\t\\xb8VY\\xee\\x96\\x10\\x06\\xff\\xf7p\\x8a\\xb8\\xaa\\xc8\\xeb\\xe3#\\x1e^T1R\\xbd{\\x1a\\xda\\x10\\xaa\\xd4\\xd5\\xd5\\xa7\\x11OCP\\x90\\x90\\xefC\\x08\\xe1\\xe1\\x96\\xcb\\xcbGG=\\xaaa\\xa1\\xe4dh\\xbfipO\\xa2\\xff\\xff\\xfe\\xc1DQ\\xd7&\\xc9\\x8b;\\xdcF\\x1a\\xed8\\x8b\\xf5\\x84\\n&:\\x1c(}\\x11\\xfd\\xc4\\x83\\xa6\\xae-\\x9c\\xbcx\\xb1\\x1a\\xf5\\xf8\\n\\xc0\\n\\xd8\\xe9]\\xff\\xc1\\xfa#=O\\x9a\\xef\\xb4\\x11]\\x18Y\\xb9\\xd3c)\\x0f\\xf3r\\x012\\xda\\xb6\\x02\\'/B\\xe2\\xca\\x8d\\x8e\\xd4\\xb3z\\xd8|\\xd8\\xc8\\xa2: \\x84\\x1c\\xdd\\x0ee*\\xe2\\x97\\xef\\x9c\\x96\\teTQ\\xb7\\x1a\\x82\\xa8r\\x14t\\x06\\x88\\x9a\\xdc9x\\xc7\\x82\\x81\\xaeq\\x19S\\xd4-\\x88\\xd46\\x83\\xf9\\xdb\\xd5 \\xd6r\\xb7\\xfa\\xa3\\xa6f\\xc5\\x93P\\xc4\\xb6\\xf1X\\xbd\\xf5\\xd5PR\\xe6\\x91~\\xb8\\xbd9\\xbe\\x1e\\xf5I\\x87\\x89\\xcc\\xa1\\xbcV\\x9b\\xbf\\xbf\\x87\\x0ecO5\\xd2\\xb7\\xf7\\xf5\\x9a\\xdcX;y\\xa6\\xd1\\x04\\x85\\xfd\\xc2R\\x99\\xd3r\\xb9\\\\\\x17\\xdc\\xdc\\xa5\\xbd\\xc0\\x93\\xf5\\xefW\\xe5\\xf2\\xd3o\\xd1\\xd0\\xae^\\x1a\\x0f\\xa8\\\\\\xa1hz\\xa21^\\xf7vp\\xee\\x1b\\xf1\\x1f\\xe6\\xdd\\x076\\x81\\xc8%.\\x86\\t\\xa9\\xdb6\\xb7\\xc6\\x8ekX\\xf7\\xc0\\xc5\\x0f?\\x1b\\xd1\\xa3\\x8aZ\\xb1w\\xcd\\xa4\\xf3v/\\xb5G\\x10K\\xf8FOzr5!\\xc4\\xbd\\x94\\x897\\xee\\xc4\\xd5\\xbe1\\xaeq\\xd7\\xcc\\xc6\\x83\\tw\\x1e\\x83\\xc1`0\\x18\\x0c\\x06\\x83\\xc1`0\\x18\\x0c\\x06\\x83\\xc1`0\\x18\\x0c\\x06\\x83\\xc1`0\\x18F\\xc6\\xff\\x01c\\xe0\\x13j\\xf7\\x86\\xe6\\x83\\x00\\x00\\x00\\x00IEND\\xaeB`\\x82'}"
            ]
          },
          "metadata": {},
          "execution_count": 27
        }
      ]
    },
    {
      "cell_type": "markdown",
      "metadata": {
        "id": "VQIq3mlUCiIZ"
      },
      "source": [
        "1)Determination of upper and lower ranges of colurs in hsv format"
      ]
    },
    {
      "cell_type": "code",
      "metadata": {
        "colab": {
          "base_uri": "https://localhost:8080/"
        },
        "id": "yVVN1GX-AI7h",
        "outputId": "b5821011-e3c1-4f55-c11a-8944590c260e"
      },
      "source": [
        "\n",
        "green = np.uint8([[[0,0,0]]])\n",
        "hsvGreen = cv2.cvtColor(green, cv2.COLOR_BGR2HSV)\n",
        "print(hsvGreen)\n",
        "\n",
        "lowerLimit = hsvGreen[0][0][0] - 10, 100, 100\n",
        "upperLimit = hsvGreen[0][0][0] + 10, 255, 255\n",
        "\n",
        "print(upperLimit)\n",
        "print(lowerLimit)"
      ],
      "execution_count": 14,
      "outputs": [
        {
          "output_type": "stream",
          "name": "stdout",
          "text": [
            "[[[0 0 0]]]\n",
            "(10, 255, 255)\n",
            "(-10, 100, 100)\n"
          ]
        }
      ]
    },
    {
      "cell_type": "code",
      "metadata": {
        "colab": {
          "base_uri": "https://localhost:8080/"
        },
        "id": "el9BzL5P7Q2i",
        "outputId": "08236bcf-7f53-426f-c142-65f506e62362"
      },
      "source": [
        "import numpy as np\n",
        "import cv2\n",
        "import matplotlib.pyplot as plt\n",
        "from google.colab.patches import cv2_imshow\n",
        "\n",
        "lower = {'red':([-10, 100, 100]), 'green':([50, 100, 100]), 'blue':([110, 100, 100]),'yellow':([24, 100, 100]), 'orange':([6, 100, 100]), 'purple':([151, 255, 255])}  \n",
        "upper = {'red':([10, 255, 255]), 'green':([70, 255, 255]), 'blue':([130, 255, 255]), 'yellow':([44, 255, 255]), 'orange':([26, 255, 255]), 'purple':([131, 100, 100])}\n",
        "\n",
        "\n",
        "colors = {'red':(0,0,255), 'green':(0,255,0), 'blue':(255,0,0), 'yellow':(0, 255, 217), 'orange':(0,140,255), 'purple':(211,0,148)}\n",
        "\n",
        "image = cv2.imread(\"images (1).png\")\n",
        "\n",
        "\n",
        " \n",
        "\n",
        "img_hsv = cv2.cvtColor(image, cv2.COLOR_BGR2HSV)\n",
        "\n",
        "mask_list=[]\n",
        "counts_list=[]\n",
        "keys=[]\n",
        "\n",
        "for (key, value) in upper.items():\n",
        "    \n",
        "    mask = cv2.inRange(img_hsv, np.array(lower[key]), np.array(upper[key]))\n",
        "    \n",
        "    mask_list.append(mask)\n",
        "    counts,_ = cv2.findContours(mask.copy(), cv2.RETR_EXTERNAL, cv2.CHAIN_APPROX_SIMPLE)\n",
        "    \n",
        "    if len(counts)>=1:\n",
        "        counts_list.append(counts[-1])\n",
        "        keys.append(key)\n",
        "        \n",
        "print(keys)\n",
        "    \n",
        "for i,j in enumerate(counts_list):\n",
        "        approx = cv2.approxPolyDP(j, 0.01*cv2.arcLength(j, True), True)\n",
        "        cv2.drawContours(image, [approx], 0, (0), 2)\n",
        "\n",
        "     \n",
        "        if len(approx) == 3:\n",
        "            \n",
        "            print(keys[i]+\" Triangle\")\n",
        "        elif len(approx) == 4:\n",
        "            x2 = approx.ravel()[2]\n",
        "            y2 = approx.ravel()[3]\n",
        "            x4 = approx.ravel()[6]\n",
        "            y4 = approx.ravel()[7]\n",
        "            side1 = abs(x2-x)\n",
        "            side2 = abs(y4-y)\n",
        "            \n",
        "            if abs(side1-side2) <= 2:\n",
        "                \n",
        "                print(keys[i]+\" Square\")\n",
        "            else:\n",
        "                \n",
        "                print(keys[i]+\" Rectangle\")\n",
        "        elif len(approx) == 5:\n",
        "            \n",
        "            print(keys[i]+\" Pentagon\")\n",
        "        elif len(approx) == 6:\n",
        "            \n",
        "            print(keys[i]+\" Hexagon\") \n",
        "        elif len(approx) == 7:\n",
        "            \n",
        "            print(keys[i]+\" Heptagon\")\n",
        "        elif len(approx) == 8:\n",
        "            \n",
        "            print(keys[i]+\" Octagon\") \n",
        "        elif len(approx) == 9:\n",
        "            \n",
        "            print(keys[i]+\" nonagon\")          \n",
        "        elif len(approx) > 1000:\n",
        "            \n",
        "            print(keys[i]+\" Circle\")\n",
        "\n",
        "\n",
        "cv2.waitKey(0)\n",
        "cv2.destroyAllWindows()"
      ],
      "execution_count": 28,
      "outputs": [
        {
          "output_type": "stream",
          "name": "stdout",
          "text": [
            "['red', 'green', 'blue']\n",
            "green Triangle\n"
          ]
        }
      ]
    }
  ]
}